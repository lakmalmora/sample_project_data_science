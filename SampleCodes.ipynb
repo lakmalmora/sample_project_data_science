{
 "cells": [
  {
   "cell_type": "code",
   "execution_count": 1,
   "id": "a23e95e0",
   "metadata": {},
   "outputs": [
    {
     "name": "stdout",
     "output_type": "stream",
     "text": [
      "Hello World\n"
     ]
    }
   ],
   "source": [
    "print(\"Hello World\")"
   ]
  },
  {
   "cell_type": "code",
   "execution_count": 1,
   "id": "1789f492",
   "metadata": {},
   "outputs": [
    {
     "data": {
      "text/plain": [
       "11"
      ]
     },
     "execution_count": 1,
     "metadata": {},
     "output_type": "execute_result"
    }
   ],
   "source": [
    "title = 'Jabberwocky'\n",
    "len(title)"
   ]
  },
  {
   "cell_type": "code",
   "execution_count": 2,
   "id": "1c4114fa",
   "metadata": {},
   "outputs": [
    {
     "data": {
      "text/plain": [
       "4"
      ]
     },
     "execution_count": 2,
     "metadata": {},
     "output_type": "execute_result"
    }
   ],
   "source": [
    "List1 = [\"Amma\",\"Tatta\",\"Akka\",\"Ayya\"]\n",
    "len(List1)"
   ]
  },
  {
   "cell_type": "code",
   "execution_count": 2,
   "id": "76dedd75",
   "metadata": {},
   "outputs": [
    {
     "data": {
      "text/plain": [
       "5"
      ]
     },
     "execution_count": 2,
     "metadata": {},
     "output_type": "execute_result"
    }
   ],
   "source": [
    "List2 = [\"Amma\",\"Tatta\",\"Akka\",\"Ayya\",\"Malli\"]\n",
    "len(List2)"
   ]
  },
  {
   "cell_type": "code",
   "execution_count": null,
   "id": "fde47026",
   "metadata": {},
   "outputs": [],
   "source": []
  }
 ],
 "metadata": {
  "kernelspec": {
   "display_name": "Python 3 (ipykernel)",
   "language": "python",
   "name": "python3"
  },
  "language_info": {
   "codemirror_mode": {
    "name": "ipython",
    "version": 3
   },
   "file_extension": ".py",
   "mimetype": "text/x-python",
   "name": "python",
   "nbconvert_exporter": "python",
   "pygments_lexer": "ipython3",
   "version": "3.11.5"
  }
 },
 "nbformat": 4,
 "nbformat_minor": 5
}
